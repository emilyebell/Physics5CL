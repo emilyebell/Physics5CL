{
 "cells": [
  {
   "cell_type": "code",
   "execution_count": null,
   "id": "1fb7d2b7",
   "metadata": {},
   "outputs": [],
   "source": []
  },
  {
   "cell_type": "code",
   "execution_count": 1,
   "id": "5a124c0d",
   "metadata": {},
   "outputs": [
    {
     "ename": "NameError",
     "evalue": "name 'np' is not defined",
     "output_type": "error",
     "traceback": [
      "\u001b[0;31m---------------------------------------------------------------------------\u001b[0m",
      "\u001b[0;31mNameError\u001b[0m                                 Traceback (most recent call last)",
      "Cell \u001b[0;32mIn[1], line 1\u001b[0m\n\u001b[0;32m----> 1\u001b[0m d_i \u001b[38;5;241m=\u001b[39m np\u001b[38;5;241m.\u001b[39marray([\u001b[38;5;241m48.46666667\u001b[39m, \u001b[38;5;241m23.53333333\u001b[39m, \u001b[38;5;241m27.93333333\u001b[39m, \u001b[38;5;241m35.56666667\u001b[39m, \u001b[38;5;241m56.33333333\u001b[39m, \u001b[38;5;241m23.56666667\u001b[39m]) \u001b[38;5;66;03m#cm\u001b[39;00m\n\u001b[1;32m      2\u001b[0m d_0 \u001b[38;5;241m=\u001b[39m np\u001b[38;5;241m.\u001b[39marray([\u001b[38;5;241m22.46666667\u001b[39m, \u001b[38;5;241m47.5\u001b[39m, \u001b[38;5;241m37.86666667\u001b[39m, \u001b[38;5;241m28\u001b[39m, \u001b[38;5;241m20.93333333\u001b[39m, \u001b[38;5;241m52.73333333\u001b[39m]) \u001b[38;5;66;03m#cm\u001b[39;00m\n\u001b[1;32m      4\u001b[0m alpha_d_i \u001b[38;5;241m=\u001b[39mnp\u001b[38;5;241m.\u001b[39marray([\u001b[38;5;241m0.01924500897\u001b[39m, \u001b[38;5;241m0.01924500897\u001b[39m, \u001b[38;5;241m0.01924500897\u001b[39m, \u001b[38;5;241m0.01924500897\u001b[39m, \u001b[38;5;241m0.01924500897\u001b[39m, \u001b[38;5;241m0.01924500897\u001b[39m]) \u001b[38;5;66;03m#taken from std err calculated in spreadsheet (cm)\u001b[39;00m\n",
      "\u001b[0;31mNameError\u001b[0m: name 'np' is not defined"
     ]
    }
   ],
   "source": [
    "d_i = np.array([48.46666667, 23.53333333, 27.93333333, 35.56666667, 56.33333333, 23.56666667]) #cm\n",
    "d_0 = np.array([22.46666667, 47.5, 37.86666667, 28, 20.93333333, 52.73333333]) #cm\n",
    "\n",
    "alpha_d_i =np.array([0.01924500897, 0.01924500897, 0.01924500897, 0.01924500897, 0.01924500897, 0.01924500897]) #taken from std err calculated in spreadsheet (cm)\n",
    "alpha_d_0 = np.array([0.01924500897, 0.03333333333, 0.01924500897, 0.03333333333, 0.01924500897, 0.01924500897]) #taken from std err calculated in spreadsheet (cm)"
   ]
  },
  {
   "cell_type": "code",
   "execution_count": null,
   "id": "38900c64",
   "metadata": {},
   "outputs": [],
   "source": []
  }
 ],
 "metadata": {
  "kernelspec": {
   "display_name": "Python 3 (ipykernel)",
   "language": "python",
   "name": "python3"
  },
  "language_info": {
   "codemirror_mode": {
    "name": "ipython",
    "version": 3
   },
   "file_extension": ".py",
   "mimetype": "text/x-python",
   "name": "python",
   "nbconvert_exporter": "python",
   "pygments_lexer": "ipython3",
   "version": "3.11.4"
  }
 },
 "nbformat": 4,
 "nbformat_minor": 5
}
